{
  "nbformat": 4,
  "nbformat_minor": 0,
  "metadata": {
    "colab": {
      "name": "ai_challenge_yolo_darknet_format_2_yolov5.ipynb",
      "provenance": []
    },
    "kernelspec": {
      "name": "python3",
      "display_name": "Python 3"
    },
    "language_info": {
      "name": "python"
    }
  },
  "cells": [
    {
      "cell_type": "code",
      "execution_count": 1,
      "metadata": {
        "colab": {
          "base_uri": "https://localhost:8080/"
        },
        "id": "ffsBRkQH670d",
        "outputId": "bf1fc9e7-28df-48ca-a0fa-b2b286eb2553"
      },
      "outputs": [
        {
          "output_type": "stream",
          "name": "stdout",
          "text": [
            "Mounted at /content/drive\n"
          ]
        }
      ],
      "source": [
        "from google.colab import drive\n",
        "drive.mount('/content/drive')"
      ]
    },
    {
      "cell_type": "markdown",
      "source": [
        "copy folder from drive to colab"
      ],
      "metadata": {
        "id": "_JzbB4a8hCox"
      }
    },
    {
      "cell_type": "code",
      "source": [
        "!cp -av '/content/drive/MyDrive/AIchallenge/train_data/train/' '/content/dataset/'"
      ],
      "metadata": {
        "id": "1fYIFlT0ZRxQ"
      },
      "execution_count": null,
      "outputs": []
    },
    {
      "cell_type": "markdown",
      "source": [
        "# split data\n",
        "\n"
      ],
      "metadata": {
        "id": "zJBH08IjbkE3"
      }
    },
    {
      "cell_type": "markdown",
      "source": [
        "remove folder from colab directory"
      ],
      "metadata": {
        "id": "qpdvYdk-g-RE"
      }
    },
    {
      "cell_type": "code",
      "source": [
        "!rm -rf '/content/dataset/train'"
      ],
      "metadata": {
        "id": "knGKQgwjfVgb"
      },
      "execution_count": 14,
      "outputs": []
    },
    {
      "cell_type": "markdown",
      "source": [
        "splits data between train and validation by 0.2%"
      ],
      "metadata": {
        "id": "k5BV91xjhMlU"
      }
    },
    {
      "cell_type": "code",
      "source": [
        "import glob\n",
        "import random\n",
        "import os\n",
        "filelist  = glob.glob('/content/dataset/train/*.txt')\n",
        "test = random.sample(filelist, int(len(filelist)*0.2))\n",
        "output_path = '/content/dataset/valid'\n",
        "if not os.path.exists(output_path):\n",
        "    os.makedirs(output_path)\n",
        "\n",
        "for file in test:\n",
        "    txtpath = file\n",
        "    impath = file[:-4] + '.jpeg'\n",
        "    out_text = os.path.join(output_path, os.path.basename(txtpath))\n",
        "    out_image = os.path.join(output_path, os.path.basename(impath))\n",
        "    print(txtpath,impath,out_text,out_image)\n",
        "    os.system('mv ' + txtpath + ' ' + out_text)\n",
        "    os.system('mv ' + impath + ' ' + out_image)\n"
      ],
      "metadata": {
        "id": "Nn7tS0WhbeZh"
      },
      "execution_count": null,
      "outputs": []
    },
    {
      "cell_type": "code",
      "source": [
        "import os\n",
        "import sys\n",
        "from pathlib import Path\n",
        "from shutil import rmtree, copy2\n",
        "from tqdm import tqdm\n",
        "import shutil"
      ],
      "metadata": {
        "id": "m6KO2t8_7pcn"
      },
      "execution_count": 17,
      "outputs": []
    },
    {
      "cell_type": "code",
      "source": [
        "%pwd"
      ],
      "metadata": {
        "colab": {
          "base_uri": "https://localhost:8080/",
          "height": 36
        },
        "id": "FgHy7h2l9i49",
        "outputId": "ec15401b-a62f-4c0d-dd34-9339892398bf"
      },
      "execution_count": 11,
      "outputs": [
        {
          "output_type": "execute_result",
          "data": {
            "text/plain": [
              "'/content/yolov5'"
            ],
            "application/vnd.google.colaboratory.intrinsic+json": {
              "type": "string"
            }
          },
          "metadata": {},
          "execution_count": 11
        }
      ]
    },
    {
      "cell_type": "markdown",
      "source": [
        "# Preprocessing"
      ],
      "metadata": {
        "id": "tbFwGLDF7C5K"
      }
    },
    {
      "cell_type": "code",
      "source": [
        "!git clone https://github.com/ultralytics/yolov5  # clone\n",
        "%cd yolov5\n",
        "%pip install -qr requirements.txt"
      ],
      "metadata": {
        "colab": {
          "base_uri": "https://localhost:8080/"
        },
        "id": "uafd1TOU7Tey",
        "outputId": "a1ea0070-0ad2-4159-9be1-7d5a8eb08b40"
      },
      "execution_count": 18,
      "outputs": [
        {
          "output_type": "stream",
          "name": "stdout",
          "text": [
            "\u001b[?25h"
          ]
        }
      ]
    },
    {
      "cell_type": "markdown",
      "source": [
        "### darknet format to yolov5 format"
      ],
      "metadata": {
        "id": "eVrqf1wL-RPp"
      }
    },
    {
      "cell_type": "code",
      "source": [
        "def copy_files(src_dir, dest_dir, ext=\"jpeg\"):\n",
        "    \"\"\"\n",
        "    Copy files with the same extension from source directory to destination directory\n",
        "\n",
        "    Parameters\n",
        "    ----------\n",
        "    src_dir : str\n",
        "        source directory \n",
        "    dest_dir : str\n",
        "        destination directory \n",
        "    ext : str, optional\n",
        "        extension of files to be moved, by default \"jpeg\"\n",
        "    \"\"\"\n",
        "    for file in tqdm(Path(src_dir).glob(f\"*.{ext}\"), desc=f\"Copying .{ext} files from {src_dir} to {dest_dir}\"):\n",
        "        copy2(file, dest_dir)\n",
        "\n",
        "\n",
        "def convert_dataset_darknet_to_yolov5(src_dir_darknet, dest_dir_yolov5, dataset_types=[\"train\", \"valid\", \"test\"]):\n",
        "    \"\"\"\n",
        "    Convert dataset from YOLO darknet format to scaled YOLOv4 format\n",
        "\n",
        "    Parameters\n",
        "    ----------\n",
        "    src_dir_darknet : str\n",
        "        source dataset in YOLO darknet format\n",
        "    dest_dir_scaled_yolov4 : str\n",
        "        destination dataset in scaled YOLOv4 format\n",
        "    dataset_types : list, optional\n",
        "        types of dataset, by default [\"train\", \"valid\"]\n",
        "    \"\"\"\n",
        "    dest_dir_yolov5 = Path(dest_dir_yolov5)\n",
        "    if dest_dir_yolov5.exists():\n",
        "        rmtree(dest_dir_yolov5)\n",
        "\n",
        "    dest_dir_yolov5.mkdir()\n",
        "\n",
        "    for dir in [\"images\", \"labels\"]:\n",
        "        for dataset_type in dataset_types:\n",
        "            dest_dir = dest_dir_yolov5.joinpath(f\"{dir}\", f\"{dataset_type}\")\n",
        "            dest_dir.mkdir(parents=True)\n",
        "\n",
        "            src_dir = Path(src_dir_darknet).joinpath(f\"{dataset_type}\")\n",
        "        \n",
        "            ext = \"jpeg\" if dir == \"images\" else \"txt\"\n",
        "            copy_files(src_dir, dest_dir, ext=ext)\n",
        "\n",
        "            print(f\"Copy {dir} from {src_dir} to {dest_dir} done!\")"
      ],
      "metadata": {
        "id": "GYO_oszV7Tay"
      },
      "execution_count": 19,
      "outputs": []
    },
    {
      "cell_type": "code",
      "source": [
        "dest_dir='/content/new_dataset'\n",
        "src_dir='/content/dataset/'\n",
        "convert_dataset_darknet_to_yolov5(src_dir, dest_dir)"
      ],
      "metadata": {
        "id": "xw1jynqq7TZH"
      },
      "execution_count": null,
      "outputs": []
    },
    {
      "cell_type": "code",
      "source": [
        ""
      ],
      "metadata": {
        "id": "I819lirjBjIf"
      },
      "execution_count": 3,
      "outputs": []
    },
    {
      "cell_type": "code",
      "source": [
        ""
      ],
      "metadata": {
        "id": "Qa71bL6JXVE8"
      },
      "execution_count": null,
      "outputs": []
    },
    {
      "cell_type": "markdown",
      "source": [
        "## split by 0.15"
      ],
      "metadata": {
        "id": "YhbaqyY-ZFdB"
      }
    },
    {
      "cell_type": "code",
      "source": [
        ""
      ],
      "metadata": {
        "id": "JLCAluVjInPG"
      },
      "execution_count": null,
      "outputs": []
    },
    {
      "cell_type": "code",
      "source": [
        "%ls"
      ],
      "metadata": {
        "id": "a4qSHoiNIv8T"
      },
      "execution_count": 25,
      "outputs": []
    },
    {
      "cell_type": "code",
      "source": [
        ""
      ],
      "metadata": {
        "id": "XXYVE3qwBisd"
      },
      "execution_count": null,
      "outputs": []
    },
    {
      "cell_type": "markdown",
      "source": [
        "# Training"
      ],
      "metadata": {
        "id": "EDApjFHD7Jhp"
      }
    },
    {
      "cell_type": "code",
      "source": [
        ""
      ],
      "metadata": {
        "id": "Q2J1-deJ7UKQ"
      },
      "execution_count": 21,
      "outputs": []
    },
    {
      "cell_type": "code",
      "source": [
        ""
      ],
      "metadata": {
        "id": "idX6RqaH7UHD"
      },
      "execution_count": null,
      "outputs": []
    },
    {
      "cell_type": "code",
      "source": [
        ""
      ],
      "metadata": {
        "id": "iRkx5u3z7UEr"
      },
      "execution_count": null,
      "outputs": []
    },
    {
      "cell_type": "markdown",
      "source": [
        "# New Section"
      ],
      "metadata": {
        "id": "rcQTIVa07DS8"
      }
    }
  ]
}