{
  "nbformat": 4,
  "nbformat_minor": 0,
  "metadata": {
    "colab": {
      "name": "ai_challenge_test_1.ipynb",
      "provenance": []
    },
    "kernelspec": {
      "name": "python3",
      "display_name": "Python 3"
    },
    "language_info": {
      "name": "python"
    }
  },
  "cells": [
    {
      "cell_type": "markdown",
      "source": [
        "# Libraries"
      ],
      "metadata": {
        "id": "_QMloB-6Fpco"
      }
    },
    {
      "cell_type": "code",
      "source": [
        "from google.colab import drive\n",
        "drive.mount('/content/drive')"
      ],
      "metadata": {
        "id": "WR3Y7nYV5ube",
        "colab": {
          "base_uri": "https://localhost:8080/"
        },
        "outputId": "3c4e6f08-45a9-416f-97a4-d947b287fb60"
      },
      "execution_count": 1,
      "outputs": [
        {
          "output_type": "stream",
          "name": "stdout",
          "text": [
            "Mounted at /content/drive\n"
          ]
        }
      ]
    },
    {
      "cell_type": "code",
      "source": [
        "import matplotlib.pyplot as plt\n",
        "import numpy as np\n",
        "from PIL import Image\n",
        "import requests\n",
        "import matplotlib\n",
        "matplotlib.use('Agg')\n",
        "\n",
        "import PIL\n",
        "import PIL.Image\n",
        "import tensorflow as tf\n",
        "import tensorflow_datasets as tfds\n",
        "import json\n",
        "import pandas as pd\n",
        "import sys"
      ],
      "metadata": {
        "id": "JucP_E4O7Xsd"
      },
      "execution_count": 101,
      "outputs": []
    },
    {
      "cell_type": "code",
      "source": [
        ""
      ],
      "metadata": {
        "id": "TljU5IDfbdLZ"
      },
      "execution_count": 110,
      "outputs": []
    },
    {
      "cell_type": "markdown",
      "source": [
        "## COCO BBOX TO YOLO BBOX"
      ],
      "metadata": {
        "id": "R44hBbEihXE0"
      }
    },
    {
      "cell_type": "code",
      "source": [
        "\n",
        "def convert_bbox_coco2yolo(img_width, img_height, bbox):\n",
        "    \"\"\"\n",
        "    Convert bounding box from COCO  format to YOLO format\n",
        "\n",
        "    Parameters\n",
        "    ----------\n",
        "    img_width : int\n",
        "        width of image\n",
        "    img_height : int\n",
        "        height of image\n",
        "    bbox : list[int]\n",
        "        bounding box annotation in COCO format: \n",
        "        [top left x position, top left y position, width, height]\n",
        "\n",
        "    Returns\n",
        "    -------\n",
        "    list[float]\n",
        "        bounding box annotation in YOLO format: \n",
        "        [x_center_rel, y_center_rel, width_rel, height_rel]\n",
        "    \"\"\"\n",
        "    \n",
        "    # YOLO bounding box format: [x_center, y_center, width, height]\n",
        "    # (float values relative to width and height of image)\n",
        "    x_tl, y_tl, w, h = bbox\n",
        "\n",
        "    dw = 1.0 / img_width\n",
        "    dh = 1.0 / img_height\n",
        "\n",
        "    x_center = x_tl + w / 2.0\n",
        "    y_center = y_tl + h / 2.0\n",
        "\n",
        "    x = x_center * dw\n",
        "    y = y_center * dh\n",
        "    w = w * dw\n",
        "    h = h * dh\n",
        "\n",
        "    return [x, y, w, h]"
      ],
      "metadata": {
        "id": "t8h8yxlshT4G"
      },
      "execution_count": 118,
      "outputs": []
    },
    {
      "cell_type": "markdown",
      "source": [
        "## COCO JSON TO YOLO TXT"
      ],
      "metadata": {
        "id": "psv6OLGmiUjn"
      }
    },
    {
      "cell_type": "code",
      "source": [
        "import os\n",
        "from tqdm import tqdm\n",
        "import shutil\n",
        "\n",
        "def make_folders(path=\"output\"):\n",
        "    if os.path.exists(path):\n",
        "        shutil.rmtree(path)\n",
        "    os.makedirs(path)\n",
        "    return path\n",
        "\n",
        "\n",
        "def convert_coco_json_to_yolo_txt(output_path, json_file):\n",
        "\n",
        "    path = make_folders(output_path)\n",
        "\n",
        "    with open(json_file) as f:\n",
        "        json_data = json.load(f)\n",
        "\n",
        "    # write _darknet.labels, which holds names of all classes (one class per line)\n",
        "    label_file = os.path.join(output_path, \"_darknet.labels\")\n",
        "    with open(label_file, \"w\") as f:\n",
        "        for category in tqdm(json_data[\"categories\"], desc=\"Categories\"):\n",
        "            category_name = category[\"name\"]\n",
        "            f.write(f\"{category_name}\\n\")\n",
        "\n",
        "    for image in tqdm(json_data[\"images\"], desc=\"Annotation txt for each iamge\"):\n",
        "        img_id = image[\"id\"]\n",
        "        img_name = image[\"file_name\"]\n",
        "        img_width = image[\"width\"]\n",
        "        img_height = image[\"height\"]\n",
        "\n",
        "        anno_in_image = [anno for anno in json_data[\"annotations\"] if anno[\"image_id\"] == img_id]\n",
        "        anno_txt = os.path.join(output_path, img_name.split(\".\")[0] + \".txt\")\n",
        "        with open(anno_txt, \"w\") as f:\n",
        "            for anno in anno_in_image:\n",
        "                category = anno[\"category_id\"]\n",
        "                bbox_COCO = anno[\"bbox\"]\n",
        "                x, y, w, h = convert_bbox_coco2yolo(img_width, img_height, bbox_COCO)\n",
        "                f.write(f\"{category} {x:.6f} {y:.6f} {w:.6f} {h:.6f}\\n\")\n",
        "\n",
        "    print(\"Converting COCO Json to YOLO txt finished!\")"
      ],
      "metadata": {
        "id": "bElc_fPfiLXO"
      },
      "execution_count": 119,
      "outputs": []
    },
    {
      "cell_type": "code",
      "source": [
        "convert_coco_json_to_yolo_txt(\"output\", coco_path)"
      ],
      "metadata": {
        "colab": {
          "base_uri": "https://localhost:8080/"
        },
        "id": "ryfWlReRigtD",
        "outputId": "285d4163-5cda-4bf2-ad31-853dc1fdba61"
      },
      "execution_count": 120,
      "outputs": [
        {
          "output_type": "stream",
          "name": "stderr",
          "text": [
            "Categories: 100%|██████████| 4/4 [00:00<00:00, 3786.33it/s]\n",
            "Annotation txt for each iamge: 100%|██████████| 39998/39998 [16:18<00:00, 40.88it/s]\n"
          ]
        },
        {
          "output_type": "stream",
          "name": "stdout",
          "text": [
            "Converting COCO Json to YOLO txt finished!\n"
          ]
        }
      ]
    },
    {
      "cell_type": "code",
      "source": [
        "from google.colab import files\n",
        "files.download('/content/output')"
      ],
      "metadata": {
        "id": "pLEoM6q-ml33"
      },
      "execution_count": null,
      "outputs": []
    },
    {
      "cell_type": "code",
      "source": [
        "!zip -r '/content/file.zip' '/content/output'\n"
      ],
      "metadata": {
        "id": "L7y41NfH4bvE"
      },
      "execution_count": null,
      "outputs": []
    },
    {
      "cell_type": "code",
      "source": [
        "!cp -r \"/content/file.zip\" \"/content/drive/MyDrive\"\n"
      ],
      "metadata": {
        "id": "voEthaPfzSB4"
      },
      "execution_count": 132,
      "outputs": []
    },
    {
      "cell_type": "code",
      "source": [
        ""
      ],
      "metadata": {
        "id": "OJolVL9GJrIg"
      },
      "execution_count": null,
      "outputs": []
    },
    {
      "cell_type": "code",
      "source": [
        ""
      ],
      "metadata": {
        "id": "NwE7km7nXM-I"
      },
      "execution_count": null,
      "outputs": []
    },
    {
      "cell_type": "code",
      "source": [
        "\n"
      ],
      "metadata": {
        "id": "VXKVJlb5XQP6"
      },
      "execution_count": null,
      "outputs": []
    },
    {
      "cell_type": "code",
      "source": [
        ""
      ],
      "metadata": {
        "id": "6zrooLbncBoq"
      },
      "execution_count": null,
      "outputs": []
    },
    {
      "cell_type": "markdown",
      "source": [
        "# Data"
      ],
      "metadata": {
        "id": "6PU9yXMZFTJG"
      }
    },
    {
      "cell_type": "code",
      "source": [
        ""
      ],
      "metadata": {
        "id": "iMSWtOirF6XK"
      },
      "execution_count": null,
      "outputs": []
    },
    {
      "cell_type": "code",
      "source": [
        ""
      ],
      "metadata": {
        "id": "ZpQhjmO8hvcp"
      },
      "execution_count": null,
      "outputs": []
    },
    {
      "cell_type": "code",
      "source": [
        ""
      ],
      "metadata": {
        "id": "BDAGGe_SF6Mh"
      },
      "execution_count": null,
      "outputs": []
    },
    {
      "cell_type": "code",
      "source": [
        ""
      ],
      "metadata": {
        "colab": {
          "base_uri": "https://localhost:8080/"
        },
        "id": "GEZOQxZOfr92",
        "outputId": "4cb5420f-3d56-49c5-fe9d-f53488f32e1a"
      },
      "execution_count": null,
      "outputs": [
        {
          "output_type": "stream",
          "name": "stdout",
          "text": [
            "<_io.TextIOWrapper name='sample.json' mode='w' encoding='UTF-8'>\n"
          ]
        }
      ]
    },
    {
      "cell_type": "markdown",
      "source": [
        "# New Section"
      ],
      "metadata": {
        "id": "PhI_moc8Futn"
      }
    }
  ]
}